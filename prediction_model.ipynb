{
 "cells": [
  {
   "cell_type": "code",
   "execution_count": null,
   "id": "bf3c48f0",
   "metadata": {},
   "outputs": [],
   "source": [
    "import pandas as pd\n",
    "from sklearn.model_selection import train_test_split\n",
    "from sklearn.ensemble import RandomForestClassifier\n",
    "from sklearn.metrics import accuracy_score, confusion_matrix, classification_report, recall_score\n",
    "from sklearn.metrics import precision_recall_fscore_support, roc_auc_score\n",
    "\n",
    "import matplotlib.pyplot as plt\n",
    "import seaborn as sns\n",
    "from imblearn.over_sampling import ADASYN\n",
    "from sklearn.linear_model import LogisticRegression\n",
    "from sklearn.svm import SVC"
   ]
  },
  {
   "cell_type": "code",
   "execution_count": 2,
   "id": "64661d4c",
   "metadata": {},
   "outputs": [],
   "source": [
    "df = pd.read_csv(\"Cleaned_Lung_Cancer.csv\")"
   ]
  },
  {
   "cell_type": "code",
   "execution_count": null,
   "id": "77f86d0a",
   "metadata": {},
   "outputs": [
    {
     "name": "stdout",
     "output_type": "stream",
     "text": [
      "Class distribution in the target variable:\n",
      "survived\n",
      "0    0.779771\n",
      "1    0.220229\n",
      "Name: proportion, dtype: float64\n"
     ]
    }
   ],
   "source": [
    "X = df.drop(columns=['survived'])\n",
    "y = df['survived']\n",
    "\n",
    "print(\"Class distribution in the target variable:\")\n",
    "print(y.value_counts(normalize=True))\n",
    "\n",
    "class_weights = dict(zip([0,1], [1, (0.779771/0.220229)]))\n",
    "\n",
    "adasyn = ADASYN(random_state=42)\n",
    "X_train_balanced, y_train_balanced = adasyn.fit_resample(X, y)\n",
    "\n",
    "X_train, X_test, y_train, y_test = train_test_split(X_train_balanced, y_train_balanced, test_size=0.25, random_state=42)\n",
    "\n",
    "\n",
    "rf = RandomForestClassifier(n_estimators=100, random_state=42, class_weight=class_weights)\n",
    "\n",
    "rf.fit(X_train, y_train)\n",
    "\n",
    "y_pred = rf.predict(X_test)\n",
    "accuracy = accuracy_score(y_test, y_pred)\n",
    "\n",
    "cm = confusion_matrix(y_test, y_pred)\n",
    "plt.figure(figsize=(6, 4))\n",
    "sns.heatmap(cm, annot=True, fmt='d', cmap='Blues')\n",
    "plt.title('Confusion Matrix')\n",
    "plt.xlabel('Predicted')\n",
    "plt.ylabel('Actual')\n",
    "plt.show()\n",
    "\n",
    "recall = recall_score(y_test, y_pred)\n",
    "print(f\"Accuracy: {accuracy}\")\n",
    "print(f\"Recall: {recall}\")\n",
    "\n",
    "print(\"\\nDetailed Classification Report:\")\n",
    "print(classification_report(y_test, y_pred))"
   ]
  },
  {
   "cell_type": "code",
   "execution_count": 4,
   "id": "394533e0",
   "metadata": {},
   "outputs": [
    {
     "name": "stdout",
     "output_type": "stream",
     "text": [
      "              precision    recall  f1-score   support\n",
      "\n",
      "           0       0.78      0.75      0.77    173292\n",
      "           1       0.22      0.24      0.23     49208\n",
      "\n",
      "    accuracy                           0.64    222500\n",
      "   macro avg       0.50      0.50      0.50    222500\n",
      "weighted avg       0.65      0.64      0.65    222500\n",
      "\n"
     ]
    }
   ],
   "source": [
    "X_train_lr, X_test_lr, y_train_lr, y_test_lr = train_test_split(X, y, test_size=0.25, random_state=42)\n",
    "\n",
    "lr_model = LogisticRegression(random_state=42, class_weight=class_weights, max_iter=1000)\n",
    "lr_model.fit(X_train_lr, y_train_lr)\n",
    "\n",
    "y_lr_pred= lr_model.predict(X_test_lr)\n",
    "lr_cr=classification_report(y_test_lr, y_lr_pred)\n",
    "print(lr_cr)"
   ]
  },
  {
   "cell_type": "markdown",
   "id": "66670040",
   "metadata": {},
   "source": [
    "#Gerando os graficos e analise dos dados"
   ]
  },
  {
   "cell_type": "code",
   "execution_count": null,
   "id": "899b6e15",
   "metadata": {},
   "outputs": [],
   "source": [
    "# Distribuição das classes antes do balanceamento\n",
    "sns.countplot(x=y)\n",
    "plt.title(\"Distribuição das classes antes do balanceamento\")\n",
    "plt.xlabel(\"Classe (Survived)\")\n",
    "plt.ylabel(\"Quantidade\")\n",
    "plt.show()\n",
    "\n",
    "# Distribuição das classes após o balanceamento (seu código já tem)\n",
    "sns.countplot(x=y_train_balanced)\n",
    "plt.title(\"Distribuição das classes após ADASYN\")\n",
    "plt.xlabel(\"Classe (Survived)\")\n",
    "plt.ylabel(\"Quantidade\")\n",
    "plt.show()"
   ]
  },
  {
   "cell_type": "code",
   "execution_count": null,
   "id": "c034325d",
   "metadata": {},
   "outputs": [],
   "source": [
    "def evaluate_model(model, X_test, y_test):\n",
    "    y_pred = model.predict(X_test)\n",
    "\n",
    "    print(f\"\\n🔍 {type(model).__name__}\")\n",
    "    print(\"=\" * 50)\n",
    "    print(classification_report(y_test, y_pred, target_names=[\"Não Sobreviveu\", \"Sobreviveu\"]))\n",
    "\n",
    "    plt.figure(figsize=(6, 4))\n",
    "    sns.heatmap(confusion_matrix(y_test, y_pred),\n",
    "                annot=True, fmt='d', cmap='Blues',\n",
    "                xticklabels=['Não Sobreviveu', 'Sobreviveu'],\n",
    "                yticklabels=['Não Sobreviveu', 'Sobreviveu'])\n",
    "    plt.title(f\"Matriz de Confusão - {type(model).__name__}\")\n",
    "    plt.ylabel('Verdadeiro')\n",
    "    plt.xlabel('Previsto')\n",
    "    print(\"Mostrando o gráfico...\")\n",
    "    plt.show()\n",
    "evaluate_model(rf, X_test, y_test)\n",
    "evaluate_model(lr_model, X_test_lr, y_test_lr)"
   ]
  },
  {
   "cell_type": "code",
   "execution_count": null,
   "id": "ad7f66b9",
   "metadata": {},
   "outputs": [],
   "source": [
    "from sklearn.metrics import RocCurveDisplay\n",
    "\n",
    "\n",
    "fig, ax = plt.subplots(figsize=(8, 6))\n",
    "\n",
    "# Comparando as curvas ROC\n",
    "# Random Forest com dados balanceados\n",
    "RocCurveDisplay.from_estimator(rf, X_test, y_test, ax=ax, name=\"RandomForestClassifier\")\n",
    "\n",
    "# Regressão Logística com dados originais\n",
    "RocCurveDisplay.from_estimator(lr_model, X_test_lr, y_test_lr, ax=ax, name=\"LogisticRegression\")\n",
    "\n",
    "# Linha de aleatoriedade (AUC = 0.5)\n",
    "plt.plot([0, 1], [0, 1], 'k--', label=\"Aleatório\")\n",
    "\n",
    "plt.title(\"Curva ROC - Comparação de Modelos\")\n",
    "plt.legend()\n",
    "plt.show()"
   ]
  },
  {
   "cell_type": "code",
   "execution_count": null,
   "id": "34e119b9",
   "metadata": {},
   "outputs": [],
   "source": [
    "# Extração dos coeficientes da Regressão Logística\n",
    "import numpy as np\n",
    "\n",
    "\n",
    "coefficients = pd.DataFrame({\n",
    "    'Feature': X_train_lr.columns,\n",
    "    'Coef': lr_model.coef_[0],\n",
    "    'Abs_Coef': np.abs(lr_model.coef_[0])\n",
    "}).sort_values(by='Abs_Coef', ascending=False)\n",
    "\n",
    "# Plotando as 10 principais features (impacto absoluto)\n",
    "plt.figure(figsize=(8, 4))\n",
    "sns.barplot(\n",
    "    x=\"Coef\",\n",
    "    y=\"Feature\",\n",
    "    data=coefficients.head(10),\n",
    "    palette=\"coolwarm\"\n",
    ")\n",
    "plt.title(\"Regressão Logística — Top 10 Features\")\n",
    "plt.xlabel(\"Coeficiente\")\n",
    "plt.ylabel(\"Variável\")\n",
    "plt.show()\n",
    "\n",
    "\n",
    "print(coefficients.head(10).to_markdown(index=False))"
   ]
  },
  {
   "cell_type": "code",
   "execution_count": null,
   "id": "8d93d5f1",
   "metadata": {},
   "outputs": [],
   "source": [
    "# Extração das importâncias das features do Random Forest (excluindo 'Unnamed: 0')\n",
    "importances = pd.DataFrame({\n",
    "    'Feature': X_train.columns,\n",
    "    'Importance': rf.feature_importances_\n",
    "}).sort_values(by='Importance', ascending=False)\n",
    "\n",
    "# Remover a variável 'Unnamed: 0' se ela estiver presente\n",
    "importances = importances[importances['Feature'] != 'Unnamed: 0']\n",
    "\n",
    "# Plotando as 10 principais features\n",
    "plt.figure(figsize=(8, 4))\n",
    "sns.barplot(\n",
    "    x=\"Importance\",\n",
    "    y=\"Feature\",\n",
    "    data=importances.head(10),\n",
    "    palette=\"viridis\"\n",
    ")\n",
    "plt.title(\"Random Forest — Top 10 Features\")\n",
    "plt.xlabel(\"Importância\")\n",
    "plt.ylabel(\"Variável\")\n",
    "plt.show()\n",
    "print(importances.head(10).to_markdown(index=False))"
   ]
  },
  {
   "cell_type": "code",
   "execution_count": null,
   "id": "84b92acc",
   "metadata": {},
   "outputs": [],
   "source": [
    "\n",
    "metricas = {}\n",
    "\n",
    "# Avaliando Random Forest (dados balanceados)\n",
    "y_pred_rf = rf.predict(X_test)\n",
    "precision_rf, recall_rf, f1_rf, _ = precision_recall_fscore_support(y_test, y_pred_rf, average='binary')\n",
    "metricas['Random Forest'] = {\n",
    "    'Acurácia': accuracy_score(y_test, y_pred_rf),\n",
    "    'Recall': recall_rf,\n",
    "    'Precisão': precision_rf,\n",
    "    'F1-Score': f1_rf,\n",
    "    'AUC': roc_auc_score(y_test, rf.predict_proba(X_test)[:, 1])\n",
    "}\n",
    "\n",
    "# Avaliando Regressão Logística (dados originais)\n",
    "y_pred_lr = lr_model.predict(X_test_lr)\n",
    "precision_lr, recall_lr, f1_lr, _ = precision_recall_fscore_support(y_test_lr, y_pred_lr, average='binary')\n",
    "metricas['Regressão Logística'] = {\n",
    "    'Acurácia': accuracy_score(y_test_lr, y_pred_lr),\n",
    "    'Recall': recall_lr,\n",
    "    'Precisão': precision_lr,\n",
    "    'F1-Score': f1_lr,\n",
    "    'AUC': roc_auc_score(y_test_lr, lr_model.predict_proba(X_test_lr)[:, 1])\n",
    "}\n",
    "\n",
    "# Exibindo a tabela comparativa\n",
    "pd.DataFrame(metricas).T.style.background_gradient(cmap='Blues')"
   ]
  }
 ],
 "metadata": {
  "kernelspec": {
   "display_name": "venv",
   "language": "python",
   "name": "python3"
  },
  "language_info": {
   "codemirror_mode": {
    "name": "ipython",
    "version": 3
   },
   "file_extension": ".py",
   "mimetype": "text/x-python",
   "name": "python",
   "nbconvert_exporter": "python",
   "pygments_lexer": "ipython3",
   "version": "3.13.5"
  }
 },
 "nbformat": 4,
 "nbformat_minor": 5
}
